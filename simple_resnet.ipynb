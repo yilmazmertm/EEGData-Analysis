{
 "cells": [
  {
   "cell_type": "code",
   "execution_count": 1,
   "metadata": {},
   "outputs": [],
   "source": [
    "import torch\n",
    "import torchvision\n",
    "import torchvision.datasets as datasets\n",
    "from torch.utils.data import Dataset, DataLoader,random_split # önemli kütüphanelerin import edilmesi\n",
    "import torchvision.transforms as transforms\n",
    "import torch.nn as nn\n",
    "import numpy as np\n",
    "from torchvision import models\n",
    "%matplotlib inline\n",
    "\n",
    "device = torch.device('cuda:0' if torch.cuda.is_available() else 'cpu') # GPU kontrolü\n",
    "\n",
    "transform = transforms.Compose(\n",
    "    [transforms.RandomHorizontalFlip(),\n",
    "    transforms.ToTensor(),\n",
    "    transforms.Normalize(mean=[0.485, 0.456, 0.406],\n",
    "                             std=[0.229, 0.224, 0.225])]) # Resimin ImageNet Standartlarında normalize edilmesi"
   ]
  },
  {
   "cell_type": "code",
   "execution_count": 2,
   "metadata": {},
   "outputs": [
    {
     "name": "stdout",
     "output_type": "stream",
     "text": [
      "Dataset ImageFolder\n",
      "    Number of datapoints: 14895\n",
      "    Root location: ../input/EEGIMAGEPSD\n",
      "Dataset has 14895 data points.\n",
      "Train Dataset has 10426 data points\n",
      "Test Dataset has 4469 data points.\n"
     ]
    }
   ],
   "source": [
    "PATH = '../input/EEGIMAGEPSD'\n",
    "\n",
    "data = datasets.ImageFolder(PATH, transform = transform) # dataset oluşturulması\n",
    "print(data)\n",
    "np.random.seed(42)\n",
    "\n",
    "train_size = int(0.70 * len(data)) # istenilen oranda datasetin train/test şeklinde bölünmesi\n",
    "test_size = len(data) - train_size\n",
    "train_dataset, test_dataset = random_split(data, [train_size, test_size])\n",
    "print(f\"Dataset has {len(data)} data points.\")\n",
    "print(f\"Train Dataset has {len(train_dataset)} data points\")\n",
    "print(f\"Test Dataset has {len(test_dataset)} data points.\") "
   ]
  },
  {
   "cell_type": "code",
   "execution_count": 3,
   "metadata": {},
   "outputs": [],
   "source": [
    "###HYPERPARAMETERS###\n",
    "batch_size = 4\n",
    "num_epochs = 10\n",
    "learning_rate = 0.0003\n",
    "###HYPERPARAMETERS###"
   ]
  },
  {
   "cell_type": "code",
   "execution_count": 4,
   "metadata": {},
   "outputs": [],
   "source": [
    "train_loader = DataLoader(train_dataset, batch_size= batch_size, shuffle= True)\n",
    "\n",
    "test_loader = DataLoader(test_dataset, batch_size= batch_size, shuffle= False)"
   ]
  },
  {
   "cell_type": "code",
   "execution_count": 5,
   "metadata": {},
   "outputs": [],
   "source": [
    "def conv3x3(in_channels, out_channels, stride=1):\n",
    "    return nn.Conv2d(in_channels, out_channels, kernel_size=3,\n",
    "                    stride=stride, padding=1, bias=False)\n",
    "# Residual block\n",
    "class ResidualBlock(nn.Module):\n",
    "    def __init__(self, in_channels, out_channels, stride=1, downsample=None):\n",
    "        super(ResidualBlock, self).__init__()\n",
    "        self.conv1 = conv3x3(in_channels, out_channels, stride)\n",
    "        self.bn1 = nn.BatchNorm2d(out_channels)\n",
    "        self.relu = nn.ReLU(inplace=True)\n",
    "        self.conv2 = conv3x3(out_channels, out_channels)\n",
    "        self.bn2 = nn.BatchNorm2d(out_channels)\n",
    "        self.downsample = downsample\n",
    "\n",
    "    def forward(self, x):\n",
    "        residual = x\n",
    "        out = self.conv1(x)\n",
    "        out = self.bn1(out)\n",
    "        out = self.relu(out)\n",
    "        out = self.conv2(out)\n",
    "        out = self.bn2(out)\n",
    "        if self.downsample:\n",
    "            residual = self.downsample(x)\n",
    "        out += residual\n",
    "        out = self.relu(out)\n",
    "        return out\n",
    "\n",
    "\n",
    "# ResNet\n",
    "class ResNet(nn.Module):\n",
    "    def __init__(self, block, layers, num_classes=5):\n",
    "        super(ResNet, self).__init__()\n",
    "        self.in_channels = 16\n",
    "        self.conv = conv3x3(3, 16)\n",
    "        self.bn = nn.BatchNorm2d(16)\n",
    "        self.relu = nn.ReLU(inplace=True)\n",
    "        self.layer1 = self.make_layer(block, 16, layers[0])\n",
    "        self.layer2 = self.make_layer(block, 32, layers[0], 2)\n",
    "        self.layer3 = self.make_layer(block, 64, layers[1], 2)\n",
    "        self.avg_pool = nn.AvgPool2d(8)\n",
    "        self.fc = nn.Linear(8320, num_classes)\n",
    "\n",
    "    def make_layer(self, block, out_channels, blocks, stride=1):\n",
    "        downsample = None\n",
    "        if (stride != 1) or (self.in_channels != out_channels):\n",
    "            downsample = nn.Sequential(\n",
    "                conv3x3(self.in_channels, out_channels, stride=stride),\n",
    "                nn.BatchNorm2d(out_channels))\n",
    "        layers = []\n",
    "        layers.append(block(self.in_channels, out_channels, stride, downsample))\n",
    "        self.in_channels = out_channels\n",
    "        for i in range(1, blocks):\n",
    "            layers.append(block(out_channels, out_channels))\n",
    "        return nn.Sequential(*layers)\n",
    "\n",
    "    def forward(self, x):\n",
    "        out = self.conv(x)\n",
    "        out = self.bn(out)\n",
    "        out = self.layer1(out)\n",
    "        out = self.layer2(out)\n",
    "        out = self.layer3(out)\n",
    "        out = self.avg_pool(out)\n",
    "        out = out.view(out.size(0), -1)\n",
    "        out = self.fc(out)\n",
    "        return out\n",
    "\n",
    "net_args = {\n",
    "    \"block\": ResidualBlock,\n",
    "    \"layers\": [2, 2, 2, 2]\n",
    "}\n",
    "\n",
    "model = ResNet(**net_args)\n",
    "model.to(device)\n",
    "criterion = nn.CrossEntropyLoss()\n",
    "optimizer = torch.optim.Adam(model.parameters(), lr=learning_rate)"
   ]
  },
  {
   "cell_type": "code",
   "execution_count": 6,
   "metadata": {},
   "outputs": [
    {
     "name": "stdout",
     "output_type": "stream",
     "text": [
      "Epoch [1/10], Step [2606/2607], Loss: 0.3733: Batch Loss : 0.6659813626102549\n",
      "Epoch [2/10], Step [2606/2607], Loss: 0.0180: Batch Loss : 0.44858454644153967\n",
      "Epoch [3/10], Step [2606/2607], Loss: 0.2405: Batch Loss : 0.3706349771375484\n",
      "Epoch [4/10], Step [2606/2607], Loss: 0.2453: Batch Loss : 0.3311624687711093\n",
      "Epoch [5/10], Step [2606/2607], Loss: 0.1726: Batch Loss : 0.29663966904327854\n",
      "Epoch [6/10], Step [2606/2607], Loss: 0.0471: Batch Loss : 0.2617412761871575\n",
      "Epoch [7/10], Step [2606/2607], Loss: 0.2694: Batch Loss : 0.23589422236999363\n",
      "Epoch [8/10], Step [2606/2607], Loss: 0.0334: Batch Loss : 0.21799903710930968\n",
      "Epoch [9/10], Step [2606/2607], Loss: 0.0176: Batch Loss : 0.19450126932855305\n",
      "Epoch [10/10], Step [2606/2607], Loss: 0.0678: Batch Loss : 0.1823923906836021\n",
      "Test Accuracy of the model on the 10000 test images: 91.13895726113225 %\n"
     ]
    }
   ],
   "source": [
    "import time\n",
    "print_every = len(train_loader) - 1\n",
    "loss_values = []\n",
    "start_time = time.time()\n",
    "total_step = len(train_loader)\n",
    "epoch_times = []\n",
    "total_step = len(train_loader)\n",
    "\n",
    "for epoch in range(num_epochs):\n",
    "    running_loss = 0.0\n",
    "    for i, (images, labels) in enumerate(train_loader): ###TRAİNİNG_LOOP\n",
    "        epoch_start_time = time.time()\n",
    "        images = images.to(device)\n",
    "        labels = labels.to(device)\n",
    "        \n",
    "        outputs = model(images)\n",
    "        loss = criterion(outputs, labels)\n",
    "        \n",
    "        optimizer.zero_grad()\n",
    "        loss.backward()\n",
    "        optimizer.step()\n",
    "        running_loss += loss.item()\n",
    "        if (i+1) % print_every == 0:\n",
    "            epoch_times.append(time.time() - epoch_start_time)\n",
    "            loss_values.append(running_loss / print_every)\n",
    "            print ('Epoch [{}/{}], Step [{}/{}], Loss: {:.4f}: Batch Loss : {}' \n",
    "                   .format(epoch+1, num_epochs, i+1, total_step, loss.item(), running_loss / print_every))\n",
    "            running_loss = 0\n",
    "end_of_training = time.time() - start_time\n",
    "\n",
    "arr_pred = np.empty((0,len(test_dataset)), int)\n",
    "\n",
    "arr_label = np.empty((0,len(test_dataset)), int)\n",
    "\n",
    "with torch.no_grad(): \n",
    "    correct = 0\n",
    "    total = 0\n",
    "    for images, labels in test_loader:  #PREDİCTİON LOOP\n",
    "        images = images.to(device)\n",
    "        labels = labels.to(device)\n",
    "        outputs = model(images)\n",
    "        _, predicted = torch.max(outputs.data, 1)\n",
    "        \n",
    "        total += labels.size(0)\n",
    "        correct += (predicted == labels).sum().item()\n",
    "        pred = predicted.cpu().numpy()\n",
    "        lb = labels.cpu().numpy()\n",
    "        arr_pred = np.append(arr_pred, pred)\n",
    "        arr_label = np.append(arr_label, lb)\n",
    "        \n",
    "    print('Test Accuracy of the model on the 10000 test images: {} %'.format(100 * correct / total))"
   ]
  },
  {
   "cell_type": "code",
   "execution_count": 7,
   "metadata": {},
   "outputs": [
    {
     "name": "stdout",
     "output_type": "stream",
     "text": [
      "Total Training Time : 80.62835736672083 dk\n"
     ]
    }
   ],
   "source": [
    "x_axis = np.arange(1,num_epochs + 1)\n",
    "\n",
    "def find_interval_for_graph(end_of_training, num_epochs):\n",
    "    interval = end_of_training / num_epochs\n",
    "    return interval\n",
    "interval = find_interval_for_graph(end_of_training, num_epochs)\n",
    "x_interval_axis = np.arange(0, end_of_training, interval)\n",
    "\n",
    "print(f\"Total Training Time : {end_of_training / 60} dk\")"
   ]
  },
  {
   "cell_type": "code",
   "execution_count": 8,
   "metadata": {},
   "outputs": [
    {
     "data": {
      "text/plain": [
       "[<matplotlib.lines.Line2D at 0x7efd00a1db00>]"
      ]
     },
     "execution_count": 8,
     "metadata": {},
     "output_type": "execute_result"
    },
    {
     "data": {
      "image/png": "[encoded data removed]",
      "text/plain": [
       "<Figure size 432x288 with 1 Axes>"
      ]
     },
     "metadata": {
      "needs_background": "light"
     },
     "output_type": "display_data"
    }
   ],
   "source": [
    "import matplotlib.pyplot as plt \n",
    "\n",
    "plt.title(\"Loss\")\n",
    "plt.ylabel(\"Value of Loss\")\n",
    "plt.xlabel(\"Number of Epochs\")\n",
    "plt.plot(x_axis, loss_values)"
   ]
  },
  {
   "cell_type": "code",
   "execution_count": 9,
   "metadata": {},
   "outputs": [
    {
     "name": "stdout",
     "output_type": "stream",
     "text": [
      "[<matplotlib.lines.Line2D object at 0x7efcf8191518>]\n"
     ]
    },
    {
     "data": {
      "image/png": "[encoded data removed]",
      "text/plain": [
       "<Figure size 432x288 with 1 Axes>"
      ]
     },
     "metadata": {
      "needs_background": "light"
     },
     "output_type": "display_data"
    }
   ],
   "source": [
    "plt.title(\"Time by Epoch , Total Training Time : {}\".format(end_of_training))\n",
    "plt.ylabel(\"Training Time\")\n",
    "plt.xlabel(\"Epoch Number\")\n",
    "print(plt.plot(x_axis,epoch_times))"
   ]
  },
  {
   "cell_type": "code",
   "execution_count": 10,
   "metadata": {},
   "outputs": [
    {
     "data": {
      "text/plain": [
       "[<matplotlib.lines.Line2D at 0x7efcf81785c0>]"
      ]
     },
     "execution_count": 10,
     "metadata": {},
     "output_type": "execute_result"
    },
    {
     "data": {
      "image/png": "[encoded data removed]",
      "text/plain": [
       "<Figure size 432x288 with 1 Axes>"
      ]
     },
     "metadata": {
      "needs_background": "light"
     },
     "output_type": "display_data"
    }
   ],
   "source": [
    "plt.title(\"Change in Loss by Time\")\n",
    "plt.ylabel(\"Loss Values\")\n",
    "plt.xlabel(\"Total Training Time\")\n",
    "plt.plot(x_interval_axis, loss_values)"
   ]
  },
  {
   "cell_type": "code",
   "execution_count": 11,
   "metadata": {},
   "outputs": [
    {
     "data": {
      "image/png": "[encoded data removed]",
      "text/plain": [
       "<Figure size 576x432 with 2 Axes>"
      ]
     },
     "metadata": {
      "needs_background": "light"
     },
     "output_type": "display_data"
    },
    {
     "name": "stdout",
     "output_type": "stream",
     "text": [
      "The Accuracy : 91.13895726113225\n",
      "The Precision : 91.24315107781875\n",
      "The Recall : 91.18468556030338\n",
      "The F1 Score : 91.1287196006191\n"
     ]
    }
   ],
   "source": [
    "from sklearn import metrics\n",
    "from cm_helper import plot_confusion_matrix\n",
    "cm = metrics.confusion_matrix(arr_label, arr_pred)\n",
    "plot_confusion_matrix(cm, target_names= [\"negative\", \"positive\", \"neutral\"], title='Confusion matrix' , normalize= False)\n",
    "\n",
    "print(f\"The Accuracy : { 100 * metrics.accuracy_score(arr_label, arr_pred)}\")\n",
    "print(f\"The Precision : {100 * metrics.precision_score(arr_label, arr_pred, average= 'macro')}\")\n",
    "print(f\"The Recall : {100 * metrics.recall_score(arr_label, arr_pred, average= 'macro')}\")\n",
    "print(f\"The F1 Score : {100 *metrics.f1_score(arr_label, arr_pred, average = 'macro')}\")"
   ]
  },
  {
   "cell_type": "code",
   "execution_count": null,
   "metadata": {},
   "outputs": [],
   "source": []
  }
 ],
 "metadata": {
  "kernelspec": {
   "display_name": "Python 3",
   "language": "python",
   "name": "python3"
  },
  "language_info": {
   "codemirror_mode": {
    "name": "ipython",
    "version": 3
   },
   "file_extension": ".py",
   "mimetype": "text/x-python",
   "name": "python",
   "nbconvert_exporter": "python",
   "pygments_lexer": "ipython3",
   "version": "3.6.9"
  }
 },
 "nbformat": 4,
 "nbformat_minor": 4
}
